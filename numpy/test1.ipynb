{
 "cells": [
  {
   "cell_type": "code",
   "execution_count": 22,
   "id": "ab6280d5-aae1-42df-a10c-88d2f6468e76",
   "metadata": {
    "collapsed": true,
    "jupyter": {
     "outputs_hidden": true,
     "source_hidden": true
    }
   },
   "outputs": [
    {
     "name": "stdout",
     "output_type": "stream",
     "text": [
      "Wikipédia\n",
      "Article labellisé du jour\n",
      "Actualités\n",
      "Le saviez-vous ?\n",
      "Présentation\n",
      "Comment contribuer ?\n",
      "Éphéméride du 29 novembre\n",
      "Image labellisée du jour\n"
     ]
    }
   ],
   "source": [
    "import requests\n",
    "from bs4 import BeautifulSoup\n",
    "import numpy as np\n",
    "\n",
    "url = 'https://fr.wikipedia.org/wiki/Wikip%C3%A9dia:Accueil_principal'\n",
    "response = requests.get(url)\n",
    "\n",
    "if response.status_code == 200 :\n",
    "    contenu = BeautifulSoup(response.text, 'html.parser')\n",
    "    contenu.prettify()\n",
    "    premierH2  = contenu.find_all('h2')\n",
    "    for h2 in premierH2 :\n",
    "        print(h2.text)\n",
    "else:\n",
    "    print('erreur')\n",
    "    "
   ]
  },
  {
   "cell_type": "code",
   "execution_count": 28,
   "id": "01f6e341-2622-4714-89a4-6cdc64519761",
   "metadata": {
    "collapsed": true,
    "jupyter": {
     "outputs_hidden": true,
     "source_hidden": true
    }
   },
   "outputs": [
    {
     "name": "stdout",
     "output_type": "stream",
     "text": [
      "Wikipédia\n"
     ]
    }
   ],
   "source": [
    "import requests\n",
    "from bs4 import BeautifulSoup\n",
    "import numpy as np\n",
    "\n",
    "url = 'https://fr.wikipedia.org/wiki/Wikip%C3%A9dia:Accueil_principal'\n",
    "response = requests.get(url)\n",
    "\n",
    "if response.status_code == 200 :\n",
    "    contenu = BeautifulSoup(response.text, 'html.parser')\n",
    "    contenu.prettify()\n",
    "    premierH2  = contenu.find('h2')\n",
    "    print(premierH2.text)\n",
    "else:\n",
    "    print('erreur')"
   ]
  },
  {
   "cell_type": "code",
   "execution_count": 46,
   "id": "f04b0f12-6913-42d8-a919-a0bf86688f62",
   "metadata": {
    "collapsed": true,
    "jupyter": {
     "outputs_hidden": true,
     "source_hidden": true
    }
   },
   "outputs": [
    {
     "name": "stdout",
     "output_type": "stream",
     "text": [
      "[[0 6 0 7 5]\n",
      " [1 4 9 8 0]\n",
      " [7 0 5 9 0]\n",
      " [8 5 2 1 5]]\n",
      "\n",
      "[[4 5 4]\n",
      " [9 3 6]\n",
      " [5 7 3]\n",
      " [9 0 8]]\n",
      "\n",
      "[[2 4 6 5]\n",
      " [1 5 3 5]\n",
      " [6 1 7 9]]\n",
      "\n",
      "[[9 1 1 9]\n",
      " [3 2 5 0]]\n",
      "\n",
      "[[0 6 0 7 5 4 5 4]\n",
      " [1 4 9 8 0 9 3 6]\n",
      " [7 0 5 9 0 5 7 3]\n",
      " [8 5 2 1 5 9 0 8]]\n",
      "\n",
      "[[2 4 6 5]\n",
      " [1 5 3 5]\n",
      " [6 1 7 9]\n",
      " [9 1 1 9]\n",
      " [3 2 5 0]]\n"
     ]
    }
   ],
   "source": [
    "import numpy as np\n",
    "tableau1 = np.random.randint(0,10,[4,5])\n",
    "tableau3 = np.random.randint(0,10,[4,3])\n",
    "tableau2 = np.random.randint(0,10,[3,4])\n",
    "tableau4 = np.random.randint(0,10,[2,4])\n",
    "\n",
    "\n",
    "print(tableau1)\n",
    "print(\"\")\n",
    "print(tableau3)\n",
    "print(\"\")\n",
    "print(tableau2)\n",
    "print(\"\")\n",
    "print(tableau4)\n",
    "print(\"\")\n",
    "A = np.hstack((tableau1, tableau3))\n",
    "print(A)\n",
    "print(\"\")\n",
    "B = np.vstack((tableau2, tableau4))\n",
    "print(B)"
   ]
  },
  {
   "cell_type": "code",
   "execution_count": 51,
   "id": "73f39d2e-1ba5-4084-8543-bf702b265dd1",
   "metadata": {
    "collapsed": true,
    "jupyter": {
     "outputs_hidden": true,
     "source_hidden": true
    }
   },
   "outputs": [
    {
     "name": "stdout",
     "output_type": "stream",
     "text": [
      "[[0 9 0 0 1]\n",
      " [8 8 8 2 9]\n",
      " [1 5 4 8 4]\n",
      " [9 2 8 9 0]]\n",
      "\n",
      "[[1 7 7]\n",
      " [2 9 7]\n",
      " [4 1 0]\n",
      " [9 3 2]]\n",
      "\n",
      "[[0 4 6 4]\n",
      " [8 6 5 7]\n",
      " [0 6 3 1]]\n",
      "\n",
      "[[9 1 3 4]\n",
      " [3 7 1 5]]\n",
      "\n",
      "[[0 4 6 4]\n",
      " [8 6 5 7]\n",
      " [0 6 3 1]\n",
      " [9 1 3 4]\n",
      " [3 7 1 5]]\n",
      "\n",
      "[[0 9 0 0 1 1 7 7]\n",
      " [8 8 8 2 9 2 9 7]\n",
      " [1 5 4 8 4 4 1 0]\n",
      " [9 2 8 9 0 9 3 2]]\n",
      "\n",
      "[[1 7]\n",
      " [7 2]\n",
      " [9 7]\n",
      " [4 1]\n",
      " [0 9]\n",
      " [3 2]]\n"
     ]
    }
   ],
   "source": [
    "import numpy as np\n",
    "tableau1 = np.random.randint(0,10,[4,5])\n",
    "tableau3 = np.random.randint(0,10,[4,3])\n",
    "tableau2 = np.random.randint(0,10,[3,4])\n",
    "tableau4 = np.random.randint(0,10,[2,4])\n",
    "\n",
    "\n",
    "print(tableau1)\n",
    "print(\"\")\n",
    "print(tableau3)\n",
    "print(\"\")\n",
    "print(tableau2)\n",
    "print(\"\")\n",
    "print(tableau4)\n",
    "# ajoute le nombre de ligne\n",
    "print(\"\")\n",
    "A = np.concatenate((tableau2,tableau4), axis=0)\n",
    "print(A)\n",
    "# ajoute le nombre de colonne\n",
    "print(\"\")\n",
    "B = np.concatenate((tableau1,tableau3), axis=1)\n",
    "print(B)\n",
    "# on maintien la meme size mais on peut chanfer les shapes l'essentiel c'est de maintenir la size\n",
    "print(\"\")\n",
    "C = tableau3.reshape((6,2))\n",
    "print(C)"
   ]
  },
  {
   "cell_type": "code",
   "execution_count": 81,
   "id": "c28009d6-0a80-48f1-ba05-5db3482e304d",
   "metadata": {},
   "outputs": [
    {
     "name": "stdout",
     "output_type": "stream",
     "text": [
      "[[  9 -13 -15 -20   3]\n",
      " [ -7   5  -8 -17 -12]\n",
      " [ -2 -14  -5 -10  -1]\n",
      " [  0  -2  -4 -10   4]]\n",
      "\n",
      "[  9   5  -4 -10   4]\n"
     ]
    }
   ],
   "source": [
    "# decoupage de la matrice pour afficher des valeurs de la matrice souhaite en fonction de la position de la ligne et de la colonne\n",
    "import numpy as np\n",
    "mat1 = np.random.randint(-20,10,[4,5])\n",
    "mat2 = np.random.randint(-20,10,[4,5])\n",
    "print(mat1)\n",
    "# A = mat1[:,-2:]\n",
    "# A = mat1[1:3,1:4]\n",
    "A = mat1.max(axis = 0)\n",
    "print(\"\")\n",
    "print(A)\n",
    "\n",
    "#permet de figer la matrice generer pour quelle ne change plus comme on utilise un randint\n",
    "random.seed(0)"
   ]
  },
  {
   "cell_type": "code",
   "execution_count": null,
   "id": "b116941c-5af1-4f62-be4b-c02c68004a9e",
   "metadata": {},
   "outputs": [],
   "source": []
  }
 ],
 "metadata": {
  "kernelspec": {
   "display_name": "Python 3 (ipykernel)",
   "language": "python",
   "name": "python3"
  },
  "language_info": {
   "codemirror_mode": {
    "name": "ipython",
    "version": 3
   },
   "file_extension": ".py",
   "mimetype": "text/x-python",
   "name": "python",
   "nbconvert_exporter": "python",
   "pygments_lexer": "ipython3",
   "version": "3.12.7"
  }
 },
 "nbformat": 4,
 "nbformat_minor": 5
}
