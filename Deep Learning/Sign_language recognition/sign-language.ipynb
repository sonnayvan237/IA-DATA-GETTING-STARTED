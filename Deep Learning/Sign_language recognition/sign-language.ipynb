{
 "cells": [
  {
   "cell_type": "code",
   "execution_count": 1,
   "id": "01c9d09d",
   "metadata": {
    "_cell_guid": "b1076dfc-b9ad-4769-8c92-a6c4dae69d19",
    "_uuid": "8f2839f25d086af736a60e9eeb907d3b93b6e0e5",
    "execution": {
     "iopub.execute_input": "2025-02-04T11:55:12.952873Z",
     "iopub.status.busy": "2025-02-04T11:55:12.952473Z",
     "iopub.status.idle": "2025-02-04T11:55:14.169436Z",
     "shell.execute_reply": "2025-02-04T11:55:14.167891Z"
    },
    "papermill": {
     "duration": 1.225448,
     "end_time": "2025-02-04T11:55:14.172682",
     "exception": false,
     "start_time": "2025-02-04T11:55:12.947234",
     "status": "completed"
    },
    "tags": []
   },
   "outputs": [
    {
     "name": "stdout",
     "output_type": "stream",
     "text": [
      "/kaggle/input/sign-language-mnist/sign_mnist_test.csv\n",
      "/kaggle/input/sign-language-mnist/amer_sign2.png\n",
      "/kaggle/input/sign-language-mnist/amer_sign3.png\n",
      "/kaggle/input/sign-language-mnist/sign_mnist_train.csv\n",
      "/kaggle/input/sign-language-mnist/american_sign_language.PNG\n",
      "/kaggle/input/sign-language-mnist/sign_mnist_test/sign_mnist_test.csv\n",
      "/kaggle/input/sign-language-mnist/sign_mnist_train/sign_mnist_train.csv\n"
     ]
    }
   ],
   "source": [
    "# This Python 3 environment comes with many helpful analytics libraries installed\n",
    "# It is defined by the kaggle/python Docker image: https://github.com/kaggle/docker-python\n",
    "# For example, here's several helpful packages to load\n",
    "\n",
    "import numpy as np # linear algebra\n",
    "import pandas as pd # data processing, CSV file I/O (e.g. pd.read_csv)\n",
    "\n",
    "# Input data files are available in the read-only \"../input/\" directory\n",
    "# For example, running this (by clicking run or pressing Shift+Enter) will list all files under the input directory\n",
    "\n",
    "import os\n",
    "for dirname, _, filenames in os.walk('/kaggle/input'):\n",
    "    for filename in filenames:\n",
    "        print(os.path.join(dirname, filename))\n",
    "\n",
    "# You can write up to 20GB to the current directory (/kaggle/working/) that gets preserved as output when you create a version using \"Save & Run All\" \n",
    "# You can also write temporary files to /kaggle/temp/, but they won't be saved outside of the current session"
   ]
  },
  {
   "cell_type": "code",
   "execution_count": 2,
   "id": "34139923",
   "metadata": {
    "execution": {
     "iopub.execute_input": "2025-02-04T11:55:14.181901Z",
     "iopub.status.busy": "2025-02-04T11:55:14.181305Z",
     "iopub.status.idle": "2025-02-04T11:55:14.188986Z",
     "shell.execute_reply": "2025-02-04T11:55:14.187686Z"
    },
    "papermill": {
     "duration": 0.015024,
     "end_time": "2025-02-04T11:55:14.191624",
     "exception": false,
     "start_time": "2025-02-04T11:55:14.176600",
     "status": "completed"
    },
    "tags": []
   },
   "outputs": [
    {
     "name": "stdout",
     "output_type": "stream",
     "text": [
      "Datasets disponibles : ['sign-language-mnist']\n"
     ]
    }
   ],
   "source": [
    "import os\n",
    "\n",
    "path = \"../input\"  # Chemin racine où les datasets Kaggle sont stockés\n",
    "data = os.listdir(path)\n",
    "print(\"Datasets disponibles :\", data)\n"
   ]
  },
  {
   "cell_type": "code",
   "execution_count": 3,
   "id": "8c5005a4",
   "metadata": {
    "execution": {
     "iopub.execute_input": "2025-02-04T11:55:14.200545Z",
     "iopub.status.busy": "2025-02-04T11:55:14.200138Z",
     "iopub.status.idle": "2025-02-04T11:55:14.207441Z",
     "shell.execute_reply": "2025-02-04T11:55:14.206080Z"
    },
    "papermill": {
     "duration": 0.014228,
     "end_time": "2025-02-04T11:55:14.209411",
     "exception": false,
     "start_time": "2025-02-04T11:55:14.195183",
     "status": "completed"
    },
    "tags": []
   },
   "outputs": [
    {
     "name": "stdout",
     "output_type": "stream",
     "text": [
      "Fichiers disponibles : ['sign_mnist_test.csv', 'sign_mnist_test', 'sign_mnist_train', 'amer_sign2.png', 'amer_sign3.png', 'sign_mnist_train.csv', 'american_sign_language.PNG']\n"
     ]
    }
   ],
   "source": [
    "dataset_name = \"sign-language-mnist\"  \n",
    "files = os.listdir(f\"{path}/{dataset_name}\")\n",
    "print(\"Fichiers disponibles :\", files)"
   ]
  },
  {
   "cell_type": "code",
   "execution_count": 4,
   "id": "c4bf8912",
   "metadata": {
    "execution": {
     "iopub.execute_input": "2025-02-04T11:55:14.217865Z",
     "iopub.status.busy": "2025-02-04T11:55:14.217409Z",
     "iopub.status.idle": "2025-02-04T11:55:18.515111Z",
     "shell.execute_reply": "2025-02-04T11:55:18.513708Z"
    },
    "papermill": {
     "duration": 4.30431,
     "end_time": "2025-02-04T11:55:18.517159",
     "exception": false,
     "start_time": "2025-02-04T11:55:14.212849",
     "status": "completed"
    },
    "tags": []
   },
   "outputs": [
    {
     "name": "stdout",
     "output_type": "stream",
     "text": [
      "Aperçu des données d'entraînement :\n",
      "   label  pixel1  pixel2  pixel3  pixel4  pixel5  pixel6  pixel7  pixel8  \\\n",
      "0      3     107     118     127     134     139     143     146     150   \n",
      "1      6     155     157     156     156     156     157     156     158   \n",
      "2      2     187     188     188     187     187     186     187     188   \n",
      "3      2     211     211     212     212     211     210     211     210   \n",
      "4     13     164     167     170     172     176     179     180     184   \n",
      "\n",
      "   pixel9  ...  pixel775  pixel776  pixel777  pixel778  pixel779  pixel780  \\\n",
      "0     153  ...       207       207       207       207       206       206   \n",
      "1     158  ...        69       149       128        87        94       163   \n",
      "2     187  ...       202       201       200       199       198       199   \n",
      "3     210  ...       235       234       233       231       230       226   \n",
      "4     185  ...        92       105       105       108       133       163   \n",
      "\n",
      "   pixel781  pixel782  pixel783  pixel784  \n",
      "0       206       204       203       202  \n",
      "1       175       103       135       149  \n",
      "2       198       195       194       195  \n",
      "3       225       222       229       163  \n",
      "4       157       163       164       179  \n",
      "\n",
      "[5 rows x 785 columns]\n",
      "\n",
      "Aperçu des données de test :\n",
      "   label  pixel1  pixel2  pixel3  pixel4  pixel5  pixel6  pixel7  pixel8  \\\n",
      "0      6     149     149     150     150     150     151     151     150   \n",
      "1      5     126     128     131     132     133     134     135     135   \n",
      "2     10      85      88      92      96     105     123     135     143   \n",
      "3      0     203     205     207     206     207     209     210     209   \n",
      "4      3     188     191     193     195     199     201     202     203   \n",
      "\n",
      "   pixel9  ...  pixel775  pixel776  pixel777  pixel778  pixel779  pixel780  \\\n",
      "0     151  ...       138       148       127        89        82        96   \n",
      "1     136  ...        47       104       194       183       186       184   \n",
      "2     147  ...        68       166       242       227       230       227   \n",
      "3     210  ...       154       248       247       248       253       236   \n",
      "4     203  ...        26        40        64        48        29        46   \n",
      "\n",
      "   pixel781  pixel782  pixel783  pixel784  \n",
      "0       106       112       120       107  \n",
      "1       184       184       182       180  \n",
      "2       226       225       224       222  \n",
      "3       230       240       253       255  \n",
      "4        49        46        46        53  \n",
      "\n",
      "[5 rows x 785 columns]\n"
     ]
    }
   ],
   "source": [
    "# Définir le chemin des fichiers\n",
    "train_csv_path = \"../input/sign-language-mnist/sign_mnist_train.csv\"\n",
    "test_csv_path = \"../input/sign-language-mnist/sign_mnist_test.csv\"\n",
    "\n",
    "# Charger les datasets\n",
    "df_train = pd.read_csv(train_csv_path)\n",
    "df_test = pd.read_csv(test_csv_path)\n",
    "\n",
    "print(\"Aperçu des données d'entraînement :\")\n",
    "print(df_train.head())\n",
    "\n",
    "print(\"\\nAperçu des données de test :\")\n",
    "print(df_test.head())\n"
   ]
  },
  {
   "cell_type": "code",
   "execution_count": 5,
   "id": "9ac355bc",
   "metadata": {
    "execution": {
     "iopub.execute_input": "2025-02-04T11:55:18.525421Z",
     "iopub.status.busy": "2025-02-04T11:55:18.525067Z",
     "iopub.status.idle": "2025-02-04T11:55:18.532625Z",
     "shell.execute_reply": "2025-02-04T11:55:18.531264Z"
    },
    "papermill": {
     "duration": 0.013784,
     "end_time": "2025-02-04T11:55:18.534413",
     "exception": false,
     "start_time": "2025-02-04T11:55:18.520629",
     "status": "completed"
    },
    "tags": []
   },
   "outputs": [
    {
     "name": "stdout",
     "output_type": "stream",
     "text": [
      "Shape des données d'entraînement : (27455, 784), (27455,)\n",
      "Shape des données de test : (7172, 784), (7172,)\n"
     ]
    }
   ],
   "source": [
    "import numpy as np\n",
    "\n",
    "# Séparer les features (X) et les labels (y)\n",
    "X_train = df_train.iloc[:, 1:].values  # Toutes les colonnes sauf la première\n",
    "y_train = df_train.iloc[:, 0].values   # La première colonne contient les labels\n",
    "\n",
    "X_test = df_test.iloc[:, 1:].values\n",
    "y_test = df_test.iloc[:, 0].values\n",
    "\n",
    "print(f\"Shape des données d'entraînement : {X_train.shape}, {y_train.shape}\")\n",
    "print(f\"Shape des données de test : {X_test.shape}, {y_test.shape}\")"
   ]
  },
  {
   "cell_type": "code",
   "execution_count": 6,
   "id": "31ae27eb",
   "metadata": {
    "execution": {
     "iopub.execute_input": "2025-02-04T11:55:18.543184Z",
     "iopub.status.busy": "2025-02-04T11:55:18.542527Z",
     "iopub.status.idle": "2025-02-04T11:55:18.684245Z",
     "shell.execute_reply": "2025-02-04T11:55:18.683106Z"
    },
    "papermill": {
     "duration": 0.148114,
     "end_time": "2025-02-04T11:55:18.686369",
     "exception": false,
     "start_time": "2025-02-04T11:55:18.538255",
     "status": "completed"
    },
    "tags": []
   },
   "outputs": [],
   "source": [
    "X_train = X_train / 255.0\n",
    "X_test = X_test / 255.0"
   ]
  },
  {
   "cell_type": "code",
   "execution_count": 7,
   "id": "97f11d02",
   "metadata": {
    "execution": {
     "iopub.execute_input": "2025-02-04T11:55:18.694816Z",
     "iopub.status.busy": "2025-02-04T11:55:18.694348Z",
     "iopub.status.idle": "2025-02-04T11:55:18.700394Z",
     "shell.execute_reply": "2025-02-04T11:55:18.699269Z"
    },
    "papermill": {
     "duration": 0.01225,
     "end_time": "2025-02-04T11:55:18.702344",
     "exception": false,
     "start_time": "2025-02-04T11:55:18.690094",
     "status": "completed"
    },
    "tags": []
   },
   "outputs": [
    {
     "name": "stdout",
     "output_type": "stream",
     "text": [
      "Nouvelle shape des images d'entraînement : (27455, 28, 28)\n",
      "Nouvelle shape des images de test : (7172, 28, 28)\n"
     ]
    }
   ],
   "source": [
    "X_train = X_train.reshape(-1, 28, 28)  # Images 28x28 en niveaux de gris (1 canal)\n",
    "X_test = X_test.reshape(-1, 28, 28)\n",
    "\n",
    "print(f\"Nouvelle shape des images d'entraînement : {X_train.shape}\")\n",
    "print(f\"Nouvelle shape des images de test : {X_test.shape}\")"
   ]
  },
  {
   "cell_type": "code",
   "execution_count": 8,
   "id": "3512173a",
   "metadata": {
    "execution": {
     "iopub.execute_input": "2025-02-04T11:55:18.710823Z",
     "iopub.status.busy": "2025-02-04T11:55:18.710351Z",
     "iopub.status.idle": "2025-02-04T11:55:20.442765Z",
     "shell.execute_reply": "2025-02-04T11:55:20.441408Z"
    },
    "papermill": {
     "duration": 1.739056,
     "end_time": "2025-02-04T11:55:20.445031",
     "exception": false,
     "start_time": "2025-02-04T11:55:18.705975",
     "status": "completed"
    },
    "tags": []
   },
   "outputs": [],
   "source": [
    "from sklearn.preprocessing import OneHotEncoder\n",
    "# Encoder les labels en one-hot\n",
    "encoder = OneHotEncoder(sparse_output=False)\n",
    "y_train = encoder.fit_transform(y_train.reshape(-1, 1))\n",
    "y_test = encoder.transform(y_test.reshape(-1, 1))"
   ]
  },
  {
   "cell_type": "code",
   "execution_count": 9,
   "id": "727d6fbd",
   "metadata": {
    "execution": {
     "iopub.execute_input": "2025-02-04T11:55:20.453644Z",
     "iopub.status.busy": "2025-02-04T11:55:20.453110Z",
     "iopub.status.idle": "2025-02-04T11:55:20.617332Z",
     "shell.execute_reply": "2025-02-04T11:55:20.616191Z"
    },
    "papermill": {
     "duration": 0.170746,
     "end_time": "2025-02-04T11:55:20.619442",
     "exception": false,
     "start_time": "2025-02-04T11:55:20.448696",
     "status": "completed"
    },
    "tags": []
   },
   "outputs": [
    {
     "data": {
      "image/png": "[encoded data removed]",
      "text/plain": [
       "<Figure size 640x480 with 1 Axes>"
      ]
     },
     "metadata": {},
     "output_type": "display_data"
    }
   ],
   "source": [
    "import matplotlib as mpl\n",
    "import matplotlib.pyplot as plt\n",
    "some_digit = X_train[27454]\n",
    "plt.imshow(some_digit, cmap=\"binary\")\n",
    "plt.axis(\"off\")\n",
    "plt.show()"
   ]
  },
  {
   "cell_type": "code",
   "execution_count": 10,
   "id": "1b58feda",
   "metadata": {
    "execution": {
     "iopub.execute_input": "2025-02-04T11:55:20.628582Z",
     "iopub.status.busy": "2025-02-04T11:55:20.628197Z",
     "iopub.status.idle": "2025-02-04T11:55:38.115287Z",
     "shell.execute_reply": "2025-02-04T11:55:38.113800Z"
    },
    "papermill": {
     "duration": 17.494401,
     "end_time": "2025-02-04T11:55:38.117791",
     "exception": false,
     "start_time": "2025-02-04T11:55:20.623390",
     "status": "completed"
    },
    "tags": []
   },
   "outputs": [
    {
     "name": "stderr",
     "output_type": "stream",
     "text": [
      "/usr/local/lib/python3.10/dist-packages/keras/src/layers/core/dense.py:87: UserWarning: Do not pass an `input_shape`/`input_dim` argument to a layer. When using Sequential models, prefer using an `Input(shape)` object as the first layer in the model instead.\n",
      "  super().__init__(activity_regularizer=activity_regularizer, **kwargs)\n"
     ]
    }
   ],
   "source": [
    "from tensorflow import keras\n",
    "from tensorflow.keras.models import Sequential\n",
    "from tensorflow.keras.layers import Dense\n",
    "\n",
    "# Construire le modèle MLP\n",
    "model = Sequential([\n",
    "    Dense(512, activation='relu', input_shape=(784,)),  # 28x28 = 784\n",
    "    Dense(256, activation='relu'),\n",
    "    Dense(128, activation='relu'),\n",
    "    Dense(24, activation='softmax')  # 24 classes pour les lettres de l'alphabet (sans J et Z)\n",
    "])"
   ]
  }
 ],
 "metadata": {
  "kaggle": {
   "accelerator": "none",
   "dataSources": [
    {
     "datasetId": 3258,
     "sourceId": 5337,
     "sourceType": "datasetVersion"
    }
   ],
   "dockerImageVersionId": 30839,
   "isGpuEnabled": false,
   "isInternetEnabled": false,
   "language": "python",
   "sourceType": "notebook"
  },
  "kernelspec": {
   "display_name": "Python 3",
   "language": "python",
   "name": "python3"
  },
  "language_info": {
   "codemirror_mode": {
    "name": "ipython",
    "version": 3
   },
   "file_extension": ".py",
   "mimetype": "text/x-python",
   "name": "python",
   "nbconvert_exporter": "python",
   "pygments_lexer": "ipython3",
   "version": "3.10.12"
  },
  "papermill": {
   "default_parameters": {},
   "duration": 30.645231,
   "end_time": "2025-02-04T11:55:40.565113",
   "environment_variables": {},
   "exception": null,
   "input_path": "__notebook__.ipynb",
   "output_path": "__notebook__.ipynb",
   "parameters": {},
   "start_time": "2025-02-04T11:55:09.919882",
   "version": "2.6.0"
  }
 },
 "nbformat": 4,
 "nbformat_minor": 5
}
